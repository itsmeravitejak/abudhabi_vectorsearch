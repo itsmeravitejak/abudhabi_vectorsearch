{
 "cells": [
  {
   "cell_type": "code",
   "execution_count": null,
   "id": "9ef12fbd",
   "metadata": {},
   "outputs": [],
   "source": [
    "!pip install pdfplumber\n",
    "!pip install pinecone\n",
    "!pip install langchain"
   ]
  },
  {
   "cell_type": "code",
   "execution_count": null,
   "id": "1a181c8d",
   "metadata": {},
   "outputs": [],
   "source": [
    "# \"https://www.abudhabi.gov.ae/-/media/sites/adgov/gazettes/2023/en/first-edition-english-2023.ashx\",\n",
    "# \"https://www.researchgate.net/profile/M-Dawoud/publication/337936386_GROUNDWATER_ATLAS_OF_ABU_DHABI_EMIRATE/links/5df5bb1f299bf10bc35c7b99/GROUNDWATER-ATLAS-OF-ABU-DHABI-EMIRATE.pdf\""
   ]
  },
  {
   "cell_type": "code",
   "execution_count": 1,
   "id": "2c94097c",
   "metadata": {},
   "outputs": [
    {
     "name": "stderr",
     "output_type": "stream",
     "text": [
      "/home/codespace/.python/current/lib/python3.12/site-packages/tqdm/auto.py:21: TqdmWarning: IProgress not found. Please update jupyter and ipywidgets. See https://ipywidgets.readthedocs.io/en/stable/user_install.html\n",
      "  from .autonotebook import tqdm as notebook_tqdm\n"
     ]
    }
   ],
   "source": [
    "import os\n",
    "import re\n",
    "import pdfplumber\n",
    "import pinecone\n",
    "from langchain.document_loaders import PyPDFLoader\n",
    "from langchain.text_splitter import RecursiveCharacterTextSplitter\n"
   ]
  },
  {
   "cell_type": "code",
   "execution_count": null,
   "id": "a52882e0",
   "metadata": {},
   "outputs": [],
   "source": [
    "# Set your API keys\n",
    "ANTHROPIC_API_KEY = \"KEY\"\n",
    "PINECONE_API_KEY = \"KEY\"\n",
    "PINECONE_ENVIRONMENT = \"us-east-1\" # e.g., \"us-west1-gcp\"\n",
    "PINECONE_INDEX_NAME = \"dense-index\"\n"
   ]
  },
  {
   "cell_type": "code",
   "execution_count": 2,
   "id": "238ebafe",
   "metadata": {},
   "outputs": [],
   "source": [
    "\n",
    "# Define a function to preprocess text\n",
    "def preprocess_text(text):\n",
    "    # Replace consecutive spaces, newlines and tabs\n",
    "    text = re.sub(r'\\s+', ' ', text)\n",
    "    return text\n",
    "\n",
    "def process_pdf(file_path):\n",
    "    # create a loader\n",
    "    loader = PyPDFLoader(file_path)\n",
    "    # load your data\n",
    "    data = loader.load()\n",
    "    # Split your data up into smaller documents with Chunks\n",
    "    text_splitter = RecursiveCharacterTextSplitter(chunk_size=1000, chunk_overlap=0)\n",
    "    documents = text_splitter.split_documents(data)\n",
    "    # Convert Document objects into strings\n",
    "\n",
    "    texts = [{\"page_content\":doc.page_content,\"_id\":doc.metadata['source']+\"_\"+str(doc.metadata['page'])+\"_\"+doc.metadata['page_label']} for doc in documents]\n",
    "    return texts\n",
    "\n"
   ]
  },
  {
   "cell_type": "code",
   "execution_count": 3,
   "id": "695eb2b6",
   "metadata": {},
   "outputs": [
    {
     "name": "stdout",
     "output_type": "stream",
     "text": [
      "['data/AbuDhabiGroundwaterAtlas2018.pdf', 'data/First Edition English 2023.pdf']\n"
     ]
    }
   ],
   "source": [
    "import glob\n",
    "files=glob.glob(\"data/*\")\n",
    "print(files)"
   ]
  },
  {
   "cell_type": "code",
   "execution_count": 4,
   "id": "65ff5d20",
   "metadata": {},
   "outputs": [],
   "source": [
    "texts=[]\n",
    "for file in files:\n",
    "    texts+=process_pdf(file)"
   ]
  },
  {
   "cell_type": "code",
   "execution_count": 7,
   "id": "b49fe05c",
   "metadata": {},
   "outputs": [],
   "source": [
    "\n",
    "from pinecone import Pinecone\n",
    "\n",
    "pc = Pinecone(api_key=PINECONE_API_KEY)\n",
    "\n",
    "index_name = \"doc-index\"\n",
    "\n",
    "if not pc.has_index(index_name):\n",
    "    pc.create_index_for_model(\n",
    "        name=index_name,\n",
    "        cloud=\"aws\",\n",
    "        region=\"us-east-1\",\n",
    "        embed={\n",
    "            \"model\":\"llama-text-embed-v2\",\n",
    "            \"field_map\":{\"text\": \"page_content\"}\n",
    "        }\n",
    "    )"
   ]
  },
  {
   "cell_type": "code",
   "execution_count": 8,
   "id": "f1e85d87",
   "metadata": {},
   "outputs": [
    {
     "data": {
      "text/plain": [
       "319"
      ]
     },
     "execution_count": 8,
     "metadata": {},
     "output_type": "execute_result"
    }
   ],
   "source": [
    "len(texts)"
   ]
  },
  {
   "cell_type": "code",
   "execution_count": 9,
   "id": "7ed7688b",
   "metadata": {},
   "outputs": [],
   "source": [
    "import itertools\n",
    "def chunks(iterable, batch_size=200):\n",
    "    \"\"\"A helper function to break an iterable into chunks of size batch_size.\"\"\"\n",
    "    it = iter(iterable)\n",
    "    chunk = tuple(itertools.islice(it, batch_size))\n",
    "    while chunk:\n",
    "        yield chunk\n",
    "        chunk = tuple(itertools.islice(it, batch_size))"
   ]
  },
  {
   "cell_type": "code",
   "execution_count": null,
   "id": "906ef694",
   "metadata": {},
   "outputs": [],
   "source": [
    "index_name=\"doc-index\"\n",
    "dense_index = pc.Index(name=index_name)\n",
    "\n",
    "# Upsert records into a namespace\n",
    "\n",
    "for single_chunk in chunks(texts,2):\n",
    "    dense_index.upsert_records(\n",
    "        namespace=\"abudhabi\", \n",
    "        records=single_chunk\n",
    "    )\n"
   ]
  }
 ],
 "metadata": {
  "kernelspec": {
   "display_name": "Python 3",
   "language": "python",
   "name": "python3"
  },
  "language_info": {
   "codemirror_mode": {
    "name": "ipython",
    "version": 3
   },
   "file_extension": ".py",
   "mimetype": "text/x-python",
   "name": "python",
   "nbconvert_exporter": "python",
   "pygments_lexer": "ipython3",
   "version": "3.12.1"
  }
 },
 "nbformat": 4,
 "nbformat_minor": 5
}
