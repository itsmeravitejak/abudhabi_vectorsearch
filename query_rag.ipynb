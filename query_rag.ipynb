{
 "cells": [
  {
   "cell_type": "code",
   "execution_count": null,
   "id": "6e4e8c4b",
   "metadata": {},
   "outputs": [],
   "source": [
    "ANTHROPIC_API_KEY = \"KEY\"\n",
    "PINECONE_API_KEY = \"KEY\"\n",
    "PINECONE_ENVIRONMENT = \"us-east-1\" # e.g., \"us-west1-gcp\"\n",
    "PINECONE_INDEX_NAME = \"dense-index\""
   ]
  },
  {
   "cell_type": "code",
   "execution_count": 15,
   "id": "9b936077",
   "metadata": {},
   "outputs": [],
   "source": [
    "from pinecone import Pinecone\n",
    "\n",
    "pc = Pinecone(api_key=PINECONE_API_KEY)\n",
    "\n",
    "# To get the unique host for an index, \n",
    "# see https://docs.pinecone.io/guides/data/target-an-index\n",
    "index = pc.Index(host=\"https://doc-index-wky5uiz.svc.aped-4627-b74a.pinecone.io\")\n",
    "\n",
    "results = index.search(\n",
    "    namespace=\"abudhabi\", \n",
    "    query={\n",
    "        \"inputs\": {\"text\": \"how much percentage  of the water consumed in abu dhabi is ground water\"}, \n",
    "        \"top_k\": 5\n",
    "    },\n",
    "    fields=[ \"page_content\"]\n",
    ")\n",
    "\n"
   ]
  },
  {
   "cell_type": "code",
   "execution_count": 16,
   "id": "bf278bac",
   "metadata": {},
   "outputs": [],
   "source": [
    "def get_ctx(query):\n",
    "    results = index.search(\n",
    "        namespace=\"abudhabi\", \n",
    "        query={\n",
    "            \"inputs\": {\"text\": query}, \n",
    "            \"top_k\": 5\n",
    "        },\n",
    "        fields=[ \"page_content\"]\n",
    "    )\n",
    "    \n",
    "    ctx=[hit['fields']['page_content'] for hit in results['result']['hits']]\n",
    "    return ctx"
   ]
  },
  {
   "cell_type": "code",
   "execution_count": 17,
   "id": "9d7a5143",
   "metadata": {},
   "outputs": [
    {
     "data": {
      "text/plain": [
       "['measurement and limitation of abstracted groundwater quantities. The activities \\nare embedded in an overall framework to achieve sustainable groundwater  \\nmanagement in Abu Dhabi Emirate.\\nStill, 64% of all water used across the Abu Dhabi Emirate is groundwater; that is about  \\n2 billion m³/year. Agricultural and forestry sectors account for 95% of these abstractions. \\nThe EAD work in the groundwater sector aims to reduce the overall abstraction and to \\npreserve the groundwater quality for many years to come. EAD educates groundwater \\nusers as well as the general public on groundwater related topics. Hopefully, the \\ngroundwater will remain the precious resource for the coming generations that it was \\nfor our ancestors.\\nDrip Irrigation System\\nGROUNDWATER ATLAS OF ABU DHABI EMIRATE\\n19',\n",
       " '93\\nGROUNDWATER ATLAS OF ABU DHABI EMIRATE\\n3%\\nFresh\\nShallow Aquifer\\nWest\\nShallow Aquifer West \\nTOTAL 532 km 3\\nShallow Aquifer East \\nTOTAL 74 km 3\\nData Sources: GWAP 2005, EAD-WSI 2017\\nShallow Aquifer \\nWest\\nShallow Aquifer \\nEast\\nShallow Aquifer \\nEast\\n42% 57%1%\\nTotal Groundwater Resources 606 km 3\\nTotal Freshwater Resources 18 km 3\\nGROUNDWATER RESOURCES\\nFresh Water (<1,500 mg/l)\\nBrackish Water (1,500 - 10,000 mg/l)\\nSaline Water (>10,000 mg/l)\\nBrackish\\n53%\\nSaline\\n44%\\n55% 42%3%',\n",
       " '91\\nGROUNDWATER ATLAS OF ABU DHABI EMIRATE\\nGroundwater Abstraction [mio m3 ]\\nGroundwater Recharge [mio m3 ]\\nOUTFLOW  \\n2,203\\nINFLOW  \\n837\\nGroundwater Flow \\ntowards Saudi Arabia1\\nANNUAL  \\nGROUNDWATER  \\nDEPLETION\\n= INFLOW - OUTFLOW\\nNATURAL\\nNATURAL\\nMAN-MADE\\nMAN-MADE\\nGroundwater Flow \\ntowards Arabian Gulf1\\nGroundwater Flow \\ntowards Dubai Emirate1\\nEvaporation from \\nInland Sabkhas1\\nDomestic and Industrial \\nAbstraction2\\nForestry  \\nAbstraction2\\nAgricultural  \\nAbstraction2\\n1,756\\n248\\n8688\\n1663\\nRecharge from  \\nPrecipitation1\\n52\\nGroundwater Flow from \\nHajjar Mountains1\\n61\\nLosses from\\nSewerage Network 3\\n10\\nDesalinated Water Fed\\nIrrigation Return Flow4  \\n58\\nTSE Fed Irrigation \\nReturn Flow4\\n42\\nWater Network\\nLosses5\\n113\\nGroundwater Fed\\nIrrigation Return Flow2\\n501\\n-1,366\\nData Sources:\\n1 – GWAP 2005 \\n2 – EAD-WSI 2017 (25% Assumed Irrigation Return Flow) \\n3 – ADDSC-MP 2008 \\n4 – SYAB 2017 (25% Assumed Irrigation Return Flow) \\n5 – SYAB 2017 (Difference between available and used desalinated water)',\n",
       " '45\\nGROUNDWATER ATLAS OF ABU DHABI EMIRATE\\nChromium Concentration \\nin Groundwater\\nBelow Guideline Value for Domestic  \\nNon-Potable Water (<0.05 mg/l)\\nBelow Guideline Value for Agricultural Irrigation \\nbut exceeding Guideline Value for Domestic \\nNon-Potable Water (>0.05 mg/l to 1 mg/l)\\nExceeding both Guideline Values (>1 mg/l)\\n14%\\n85%\\n1%\\nData Source: EAD-WSI 2017\\nDeposition of  \\nEolian Sediments\\nDeposition of  \\nAlluvial Sediments\\nErosion of  \\nMafic Rocks\\nWadi & RiverWind\\nWind\\nHeavy Metals in \\nGroundwater depending on \\nits pH, Eh, T\\n45\\nGROUNDWATER ATLAS OF ABU DHABI EMIRATE',\n",
       " '85\\nGROUNDWATER ATLAS OF ABU DHABI EMIRATE\\nBoron Concentration  \\nin Groundwater Samples\\nBelow Guideline Value for Agricultural \\nIrrigation (<0.5 mg/l)\\n6%\\n40%\\n54%\\nBelow Guideline Value for Domestic \\nNon-Potable Water but exceeding \\nthe Guideline Value for Agricultural \\nIrrigation (>0.5 mg/l to 2.4 mg/l)\\nExceeding both Guideline Values  \\n(>2.4 mg/l)\\nSelected Samples  \\nfrom the Liwa Crescent\\nFlouride Concentration  \\nin Groundwater Samples\\nBelow Guideline Value for Domestic \\nNon-Potable Water (<0.4 mg/l)\\nBelow Guideline Value for Agricultural \\nIrrigation Water but exceeding the \\nGuideline Value for Domestic Non-\\nPotable Water (>0.4 mg/l to 1 mg/l)\\nExceeding both Guideline Values  \\n(>1 mg/l)\\n44%46%\\n10%\\nFluoride\\n6 mg/l\\nManganese\\n0.03 mg/l\\nStrontium\\n30 mg/l\\nBoron\\n12 mg/l\\nSilica\\n30 mg/l \\nPhosphate\\n1.2 mg/l \\nIron\\n0.3 mg/l\\nMizerah\\nArrada\\nHimem\\n200,000\\n200,000\\n2,550,000\\n2,550,000\\n2,575,000\\n2,575,000\\n150,000\\n150,000\\nData Source: EAD-WSI 2017\\n0 10 20 40\\nKilometres\\nN']"
      ]
     },
     "execution_count": 17,
     "metadata": {},
     "output_type": "execute_result"
    }
   ],
   "source": [
    "get_ctx(\"how much percentage  of the water consumed in abu dhabi is ground water\")"
   ]
  },
  {
   "cell_type": "code",
   "execution_count": 22,
   "id": "bbff213f",
   "metadata": {},
   "outputs": [],
   "source": [
    "import anthropic\n",
    "import os\n",
    "client = anthropic.Anthropic(\n",
    "    api_key=ANTHROPIC_API_KEY\n",
    ")\n",
    "def call_claude(msg):    \n",
    "    ctx=get_ctx(msg)\n",
    "    user_input=f\"Query: {msg} \\n Context: {ctx}\"\n",
    "    message = client.messages.create(\n",
    "                model=\"claude-3-7-sonnet-20250219\",\n",
    "                max_tokens=20000,\n",
    "                temperature=1,\n",
    "                system=\"You are Automated bot to help users get information about abu dhabi , you can make use of the context provided by the user to answer the queries. Any information you provide might or might not be accurate. dont go out of context to answer the query \",\n",
    "                messages=[\n",
    "                    {\n",
    "                        \"role\": \"user\",\n",
    "                        \"content\": [\n",
    "                            {\n",
    "                                \"type\": \"text\",\n",
    "                                \"text\": user_input\n",
    "                            }\n",
    "                        ]\n",
    "                    }\n",
    "                ]\n",
    "            )\n",
    "    return message"
   ]
  },
  {
   "cell_type": "code",
   "execution_count": 25,
   "id": "7e73a7e0",
   "metadata": {},
   "outputs": [],
   "source": [
    "response=call_claude(\"how much percentage  of the water consumed in abu dhabi is ground water\")"
   ]
  },
  {
   "cell_type": "code",
   "execution_count": 30,
   "id": "7b7bf2ec",
   "metadata": {},
   "outputs": [
    {
     "name": "stdout",
     "output_type": "stream",
     "text": [
      "According to the provided context, 64% of all water used across the Abu Dhabi Emirate is groundwater, which amounts to about 2 billion cubic meters per year. The agricultural and forestry sectors account for 95% of these groundwater abstractions.\n"
     ]
    }
   ],
   "source": [
    "if response.stop_reason==\"end_turn\":\n",
    "        for item in response.content:\n",
    "            if item.type == \"text\":\n",
    "                  print(item.text)"
   ]
  }
 ],
 "metadata": {
  "kernelspec": {
   "display_name": "Python 3",
   "language": "python",
   "name": "python3"
  },
  "language_info": {
   "codemirror_mode": {
    "name": "ipython",
    "version": 3
   },
   "file_extension": ".py",
   "mimetype": "text/x-python",
   "name": "python",
   "nbconvert_exporter": "python",
   "pygments_lexer": "ipython3",
   "version": "3.12.1"
  }
 },
 "nbformat": 4,
 "nbformat_minor": 5
}
